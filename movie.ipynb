{
 "cells": [
  {
   "cell_type": "markdown",
   "metadata": {},
   "source": [
    "# **ScreenGenius:** Smart Movie Suggestions\n"
   ]
  },
  {
   "cell_type": "markdown",
   "metadata": {},
   "source": [
    "![front_image](images/ipnb_front.jpg)"
   ]
  },
  {
   "cell_type": "markdown",
   "metadata": {},
   "source": [
    "## Table of Contents\n",
    "\n",
    "* [Introduction](#Introduction)\n",
    "\n",
    "    * [Project Significance](#project-significance)\n",
    "    * [The MovieLens Dataset](#the-movielens-dataset)\n",
    "    * [Project Objective](#project-objective)\n",
    "    * [Key Challenges](#key-challenges)\n",
    "    * [Expected Outcomes](#expected-outcomes)\n",
    "    * [Project Scope](#project-scope)\n",
    "    * [Audience](#audience)\n",
    "    * [Structure of the Report](#structure-of-the-report)\n",
    "\n",
    "* [Problem Statement](#problem-statement)\n",
    "\n",
    "    * [Specific Objectives](#specific-objectives)\n",
    "\n",
    "* [Business Understanding](#business-understanding)\n",
    "    * [Success Metrics](#success-metrics)\n",
    "\n",
    "* [Data Understanding](#data-understanding)\n",
    "    * [Overview](#overview)\n",
    "    * [Dataset Details](#dataset-details)\n",
    "    * [Data Quality and Completeness](#data-quality-and-completeness)\n",
    "    * [Data Usage Considerations](#data-usage-considerations)\n",
    "    * [Next Steps](#next-steps)\n",
    "\n",
    "\n",
    "\n"
   ]
  },
  {
   "cell_type": "markdown",
   "metadata": {},
   "source": [
    "## Introduction"
   ]
  },
  {
   "cell_type": "markdown",
   "metadata": {},
   "source": [
    "In an era where digital entertainment platforms are booming, the ability to provide users with personalized content recommendations has become a defining factor in user satisfaction and platform success. This project delves into the world of movie recommendation systems, leveraging the rich \"ml-latest-small\" dataset from MovieLens.\n",
    "\n",
    "### Project Significance\n",
    "\n",
    "Personalized movie recommendations can significantly enhance user engagement and retention on streaming platforms. By tailoring movie suggestions to individual user preferences, platforms can keep users entertained, extend their stay, and ultimately thrive in a competitive market.\n",
    "\n",
    "### The MovieLens Dataset\n",
    "\n",
    "The cornerstone of our project is the \"ml-latest-small\" dataset, a treasure trove of movie ratings and information. This dataset encompasses over 100,000 user ratings, spanning 9,742 unique movies, and originating from 610 distinct users.\n",
    "\n",
    "### Project Objective\n",
    "\n",
    "Our mission is clear: to build a movie recommendation system that excels at providing personalized movie suggestions based on users' historical ratings. This project aims to create a system that enhances the user experience and contributes to the success of entertainment platforms.\n",
    "\n",
    "### Key Challenges\n",
    "\n",
    "As I embark on this journey, I anticipate challenges such as dealing with sparse data, addressing the cold start problem for new users, and optimizing recommendation accuracy. Our approach will involve collaborative filtering techniques and, potentially, a hybrid approach to overcome these obstacles.\n",
    "\n",
    "### Expected Outcomes\n",
    "\n",
    "We anticipate that our recommendation system will lead to improved user engagement, higher user retention rates, and a competitive edge in the market by delivering accurate and relevant movie suggestions.\n",
    "\n",
    "### Project Scope\n",
    "\n",
    "This project will focus on modeling and evaluating the recommendation system using the provided dataset. The deployment aspect may be explored as future work.\n",
    "\n",
    "### Audience\n",
    "\n",
    "This project is intended for data scientists, developers, business stakeholders, and anyone interested in the realms of recommendation systems and movie data analysis.\n",
    "\n",
    "### Structure of the Report\n",
    "\n",
    "In the following sections, we will delve into data understanding, preprocessing, model development, evaluation metrics, and user interface design, culminating in the creation of a robust movie recommendation system."
   ]
  },
  {
   "cell_type": "markdown",
   "metadata": {},
   "source": [
    "## Problem Statement"
   ]
  },
  {
   "cell_type": "markdown",
   "metadata": {},
   "source": [
    "The project aims to develop a movie recommendation system using the MovieLens dataset, which includes user ratings and movie information. The primary objective is to create a recommendation system that provides personalized movie suggestions to users based on their historical ratings of other movies. The dataset encompasses 100,836 user ratings, 9,742 movies, and 610 unique users.\n",
    "\n",
    "### Specific Objectives\n",
    "\n",
    "Specifically, the project will address the following key components:\n",
    "\n",
    "- **User-Centric Recommendations:** TO design and implement a recommendation system that tailors movie suggestions to individual users. This system will take into account the historical ratings provided by users to identify movies that align with their preferences.\n",
    "\n",
    "- **Collaborative Filtering:** To utilize collaborative filtering techniques, such as user-user and item-item collaborative filtering, to enhance recommendation accuracy. By leveraging user interactions and similarities between movies, the system will generate precise and personalized movie recommendations.\n",
    "\n",
    "- **Dataset Understanding:** To analyze the provided dataset, consisting of `movieId`, `title` `genres`, `userId`, `rating` and `timestamp` columns. Understand the relationships between users, movies, and their associated genres.\n",
    "\n",
    "- **Evaluation Metrics:** To employ suitable evaluation metrics, such as Root Mean Square Error (RMSE) or Mean Absolute Error (MAE), to assess the accuracy and effectiveness of the recommendation system. Evaluate how well the system predicts user preferences and provides relevant movie suggestions.\n",
    "\n",
    "- **Cold Start Problem:** To consider implementing a hybrid approach, combining collaborative filtering with content-based filtering, to address the \"cold start\" problem. This ensures that the system can recommend movies even for new users or less-rated movies.\n",
    "\n",
    "- **User Interface:** To develop a user-friendly interface that allows users to input their movie ratings and receive personalized recommendations. Ensure seamless integration between user ratings and the recommendation engine."
   ]
  },
  {
   "cell_type": "markdown",
   "metadata": {},
   "source": [
    "## Business Understanding"
   ]
  },
  {
   "cell_type": "markdown",
   "metadata": {},
   "source": [
    "This movie recommendation system is designed to benefit the following stakeholders:\n",
    "\n",
    "- **Users**: Movie enthusiasts seeking personalized movie suggestions based on their preferences and viewing history.\n",
    "\n",
    "- **Streaming Platform**: The platform hosting the movie recommendation system, aiming to enhance user satisfaction and engagement.\n",
    "\n",
    "- **Content Providers**: Movie studios and content creators interested in understanding user preferences and trends to optimize their content offerings.\n",
    "\n",
    "### Success Metrics\n",
    "\n",
    "To measure the success and impact of our recommendation system, we will monitor several key performance indicators (KPIs), including:\n",
    "\n",
    "- **User Engagement**: Increased user interactions, such as movie ratings, recommendations viewed, and movies watched.\n",
    "\n",
    "- **User Retention**: A decrease in user churn rates and an increase in recurring users.\n",
    "\n",
    "- **Recommendation Accuracy**: Improved accuracy in predicting user preferences, as measured by evaluation metrics like RMSE and MAE.\n",
    "\n",
    "- **Content Utilization**: A rise in the utilization of less-watched or newly added content.\n",
    "\n",
    "- **Platform Growth**: Attraction of new users and overall platform growth.\n",
    "\n",
    "\n",
    "The movie recommendation system project aligns with the evolving landscape of entertainment consumption by enhancing the user experience and delivering valuable insights for decision-makers. By leveraging data and advanced algorithms, I aim to create a win-win scenario, benefiting both our users and the platform itself while staying competitive in the market."
   ]
  },
  {
   "cell_type": "markdown",
   "metadata": {},
   "source": [
    "## Data Understanding\n",
    "\n",
    "### Overview\n",
    "\n",
    "The **ml-latest-small** dataset is a collection of data from [MovieLens](http://movielens.org/), a movie recommendation service. It comprises user ratings and free-text tagging activities, offering insights into user preferences. This dataset contains a total of 100,836 movie ratings and 3,683 tag applications across 9,742 movies.\n",
    "\n",
    "### Dataset Details\n",
    "\n",
    "- **Ratings**: There are 100,836 user ratings, primarily based on a 5-star scale.\n",
    "- **Tags**: The dataset includes 3,683 instances of user-generated tags for movies.\n",
    "- **Users**: These data originate from 610 users who interacted with the MovieLens platform.\n",
    "- **Timeframe**: The data spans a period from March 29, 1996, to September 24, 2018.\n",
    "- **No Demographic Data**: Notably, this dataset does not include any demographic information about the users. Each user is identified solely by a unique numerical identifier.\n",
    "- **File Structure**: The dataset is organized into four main files: **links.csv**, **movies.csv**, **ratings.csv**, and **tags.csv**.\n",
    "- Out of the four datasets, only **movie.csv** and **ratings.csv**  will be used for the analysis\n",
    "\n",
    "The dataset comprises four files of which we will use two main files:\n",
    "\n",
    "1. **movies.csv**: This file contains information about movies and includes the following columns:\n",
    "   - `movieId`: A unique numerical identifier for each movie.\n",
    "   - `title`: The title of the movie.\n",
    "   - `genres`: A list of genres associated with the movie, separated by the pipe (|) character.\n",
    "\n",
    "2. **ratings.csv**: This file contains user ratings for movies and includes the following columns:\n",
    "   - `userId`: A unique numerical identifier for each user.\n",
    "   - `movieId`: The corresponding movie identifier, linking each rating to a specific movie.\n",
    "   - `rating`: The user's numerical rating for the movie.\n",
    "   - `timestamp`: A Unix timestamp indicating when the rating was provided.\n",
    "\n",
    "\n",
    "### Data Quality and Completeness\n",
    "\n",
    "- The dataset appears to be relatively clean, with no mention of missing values or data quality issues in the provided information.\n",
    "\n",
    "- However, further exploratory data analysis (EDA) may be necessary to identify any potential data anomalies or patterns.\n",
    "\n",
    "### Data Usage Considerations\n",
    "\n",
    "- The dataset is intended for development purposes and may not be suitable for sharing research results or long-term studies.\n",
    "\n",
    "- It offers a valuable resource for creating a movie recommendation system, understanding user preferences, and enhancing user engagement on a movie platform.\n",
    "\n",
    "### Next Steps\n",
    "\n",
    "With a clear understanding of the dataset's structure and content, the next steps involve data preprocessing, feature engineering, and the development of the movie recommendation system. This system will leverage the rich data available to provide personalized movie suggestions to users based on their historical ratings."
   ]
  },
  {
   "cell_type": "markdown",
   "metadata": {},
   "source": [
    "## Import necessary Libraries"
   ]
  },
  {
   "cell_type": "code",
   "execution_count": 38,
   "metadata": {},
   "outputs": [],
   "source": [
    "# Data manipulation and analysis\n",
    "import pandas as pd                 # For working with dataframes\n",
    "import numpy as np                  # For numerical operations\n",
    "\n",
    "# Data visualization\n",
    "import matplotlib.pyplot as plt     # For creating plots and visualizations\n",
    "import seaborn as sns               # For advanced data visualizations\n",
    "\n",
    "# Machine learning and recommendation\n",
    "from sklearn.model_selection import train_test_split  # For splitting data into training and testing sets\n",
    "from sklearn import model_selection as mod\n",
    "from sklearn.metrics import mean_squared_error        # For evaluating model performance\n",
    "from sklearn.metrics.pairwise import cosine_similarity # For calculating similarity between items\n",
    "\n",
    "\n",
    "# Collaborative filtering algorithms\n",
    "\n",
    "\n",
    "\n",
    "\n",
    "# Suppress warnings (optional)\n",
    "import warnings\n",
    "warnings.filterwarnings('ignore')"
   ]
  },
  {
   "cell_type": "markdown",
   "metadata": {},
   "source": [
    "## Load Dataset"
   ]
  },
  {
   "cell_type": "markdown",
   "metadata": {},
   "source": [
    "### Load `movies.csv`"
   ]
  },
  {
   "cell_type": "code",
   "execution_count": 27,
   "metadata": {},
   "outputs": [
    {
     "data": {
      "text/html": [
       "<div>\n",
       "<style scoped>\n",
       "    .dataframe tbody tr th:only-of-type {\n",
       "        vertical-align: middle;\n",
       "    }\n",
       "\n",
       "    .dataframe tbody tr th {\n",
       "        vertical-align: top;\n",
       "    }\n",
       "\n",
       "    .dataframe thead th {\n",
       "        text-align: right;\n",
       "    }\n",
       "</style>\n",
       "<table border=\"1\" class=\"dataframe\">\n",
       "  <thead>\n",
       "    <tr style=\"text-align: right;\">\n",
       "      <th></th>\n",
       "      <th>movieId</th>\n",
       "      <th>title</th>\n",
       "      <th>genres</th>\n",
       "    </tr>\n",
       "  </thead>\n",
       "  <tbody>\n",
       "    <tr>\n",
       "      <th>0</th>\n",
       "      <td>1</td>\n",
       "      <td>Toy Story (1995)</td>\n",
       "      <td>Adventure|Animation|Children|Comedy|Fantasy</td>\n",
       "    </tr>\n",
       "    <tr>\n",
       "      <th>1</th>\n",
       "      <td>2</td>\n",
       "      <td>Jumanji (1995)</td>\n",
       "      <td>Adventure|Children|Fantasy</td>\n",
       "    </tr>\n",
       "    <tr>\n",
       "      <th>2</th>\n",
       "      <td>3</td>\n",
       "      <td>Grumpier Old Men (1995)</td>\n",
       "      <td>Comedy|Romance</td>\n",
       "    </tr>\n",
       "    <tr>\n",
       "      <th>3</th>\n",
       "      <td>4</td>\n",
       "      <td>Waiting to Exhale (1995)</td>\n",
       "      <td>Comedy|Drama|Romance</td>\n",
       "    </tr>\n",
       "    <tr>\n",
       "      <th>4</th>\n",
       "      <td>5</td>\n",
       "      <td>Father of the Bride Part II (1995)</td>\n",
       "      <td>Comedy</td>\n",
       "    </tr>\n",
       "  </tbody>\n",
       "</table>\n",
       "</div>"
      ],
      "text/plain": [
       "   movieId                               title  \\\n",
       "0        1                    Toy Story (1995)   \n",
       "1        2                      Jumanji (1995)   \n",
       "2        3             Grumpier Old Men (1995)   \n",
       "3        4            Waiting to Exhale (1995)   \n",
       "4        5  Father of the Bride Part II (1995)   \n",
       "\n",
       "                                        genres  \n",
       "0  Adventure|Animation|Children|Comedy|Fantasy  \n",
       "1                   Adventure|Children|Fantasy  \n",
       "2                               Comedy|Romance  \n",
       "3                         Comedy|Drama|Romance  \n",
       "4                                       Comedy  "
      ]
     },
     "execution_count": 27,
     "metadata": {},
     "output_type": "execute_result"
    }
   ],
   "source": [
    "# Define the file path to the movies.csv file\n",
    "file_path = 'dataset/movies.csv'\n",
    "\n",
    "# Load the dataset into a Pandas DataFrame\n",
    "movies_df = pd.read_csv(file_path)\n",
    "\n",
    "# Display the first few rows of the dataset to understand its structure\n",
    "movies_df.head()"
   ]
  },
  {
   "cell_type": "code",
   "execution_count": 28,
   "metadata": {},
   "outputs": [
    {
     "name": "stdout",
     "output_type": "stream",
     "text": [
      "Dataset Shape:\n",
      "=================\n",
      "Number of Rows: 9742\n",
      "Number of Columns: 3\n"
     ]
    }
   ],
   "source": [
    "# Display the shape of the dataset (number of rows and columns)\n",
    "print(\"Dataset Shape:\")\n",
    "print(\"=================\")\n",
    "print(\"Number of Rows:\", movies_df.shape[0])\n",
    "print(\"Number of Columns:\", movies_df.shape[1])"
   ]
  },
  {
   "cell_type": "code",
   "execution_count": 29,
   "metadata": {},
   "outputs": [
    {
     "name": "stdout",
     "output_type": "stream",
     "text": [
      "Data Types of Columns:\n",
      "============================\n",
      "movieId     int64\n",
      "title      object\n",
      "genres     object\n",
      "dtype: object\n"
     ]
    }
   ],
   "source": [
    "# Display the data types of columns\n",
    "print(\"Data Types of Columns:\")\n",
    "print(\"============================\")\n",
    "print(movies_df.dtypes)"
   ]
  },
  {
   "cell_type": "markdown",
   "metadata": {},
   "source": [
    "### Load `ratings.csv`"
   ]
  },
  {
   "cell_type": "code",
   "execution_count": 30,
   "metadata": {},
   "outputs": [
    {
     "data": {
      "text/html": [
       "<div>\n",
       "<style scoped>\n",
       "    .dataframe tbody tr th:only-of-type {\n",
       "        vertical-align: middle;\n",
       "    }\n",
       "\n",
       "    .dataframe tbody tr th {\n",
       "        vertical-align: top;\n",
       "    }\n",
       "\n",
       "    .dataframe thead th {\n",
       "        text-align: right;\n",
       "    }\n",
       "</style>\n",
       "<table border=\"1\" class=\"dataframe\">\n",
       "  <thead>\n",
       "    <tr style=\"text-align: right;\">\n",
       "      <th></th>\n",
       "      <th>userId</th>\n",
       "      <th>movieId</th>\n",
       "      <th>rating</th>\n",
       "      <th>timestamp</th>\n",
       "    </tr>\n",
       "  </thead>\n",
       "  <tbody>\n",
       "    <tr>\n",
       "      <th>0</th>\n",
       "      <td>1</td>\n",
       "      <td>1</td>\n",
       "      <td>4.0</td>\n",
       "      <td>964982703</td>\n",
       "    </tr>\n",
       "    <tr>\n",
       "      <th>1</th>\n",
       "      <td>1</td>\n",
       "      <td>3</td>\n",
       "      <td>4.0</td>\n",
       "      <td>964981247</td>\n",
       "    </tr>\n",
       "    <tr>\n",
       "      <th>2</th>\n",
       "      <td>1</td>\n",
       "      <td>6</td>\n",
       "      <td>4.0</td>\n",
       "      <td>964982224</td>\n",
       "    </tr>\n",
       "    <tr>\n",
       "      <th>3</th>\n",
       "      <td>1</td>\n",
       "      <td>47</td>\n",
       "      <td>5.0</td>\n",
       "      <td>964983815</td>\n",
       "    </tr>\n",
       "    <tr>\n",
       "      <th>4</th>\n",
       "      <td>1</td>\n",
       "      <td>50</td>\n",
       "      <td>5.0</td>\n",
       "      <td>964982931</td>\n",
       "    </tr>\n",
       "  </tbody>\n",
       "</table>\n",
       "</div>"
      ],
      "text/plain": [
       "   userId  movieId  rating  timestamp\n",
       "0       1        1     4.0  964982703\n",
       "1       1        3     4.0  964981247\n",
       "2       1        6     4.0  964982224\n",
       "3       1       47     5.0  964983815\n",
       "4       1       50     5.0  964982931"
      ]
     },
     "execution_count": 30,
     "metadata": {},
     "output_type": "execute_result"
    }
   ],
   "source": [
    "# Define the file path to the movies.csv file\n",
    "file_path = 'dataset/ratings.csv'\n",
    "\n",
    "# Load the dataset into a Pandas DataFrame\n",
    "ratings_df = pd.read_csv(file_path)\n",
    "\n",
    "# Display the first few rows of the dataset to understand its structure\n",
    "ratings_df.head()"
   ]
  },
  {
   "cell_type": "code",
   "execution_count": 31,
   "metadata": {},
   "outputs": [
    {
     "name": "stdout",
     "output_type": "stream",
     "text": [
      "Dataset Shape:\n",
      "==========================\n",
      "Number of Rows: 100836\n",
      "Number of Columns: 4\n"
     ]
    }
   ],
   "source": [
    "# Display the shape of the dataset (number of rows and columns)\n",
    "print(\"Dataset Shape:\")\n",
    "print(\"==========================\")\n",
    "print(\"Number of Rows:\", ratings_df.shape[0])\n",
    "print(\"Number of Columns:\", ratings_df.shape[1])"
   ]
  },
  {
   "cell_type": "code",
   "execution_count": 32,
   "metadata": {},
   "outputs": [
    {
     "name": "stdout",
     "output_type": "stream",
     "text": [
      "Data Types of Columns:\n",
      "============================\n",
      "userId         int64\n",
      "movieId        int64\n",
      "rating       float64\n",
      "timestamp      int64\n",
      "dtype: object\n"
     ]
    }
   ],
   "source": [
    "# Display the data types of columns\n",
    "print(\"Data Types of Columns:\")\n",
    "print(\"============================\")\n",
    "print(ratings_df.dtypes)"
   ]
  },
  {
   "cell_type": "markdown",
   "metadata": {},
   "source": [
    "## Data Preparation"
   ]
  },
  {
   "cell_type": "markdown",
   "metadata": {},
   "source": [
    "We won't use the `timestamp`, let's drop it;"
   ]
  },
  {
   "cell_type": "markdown",
   "metadata": {},
   "source": [
    "### Dropping Irrelevant Columns"
   ]
  },
  {
   "cell_type": "code",
   "execution_count": 33,
   "metadata": {},
   "outputs": [],
   "source": [
    "# Drop the 'timestamp' column from the ratings dataset\n",
    "ratings_df = ratings_df.drop(columns=['timestamp'])"
   ]
  },
  {
   "cell_type": "markdown",
   "metadata": {},
   "source": [
    "### Merge `movies_df` & `ratings_df`"
   ]
  },
  {
   "cell_type": "code",
   "execution_count": 34,
   "metadata": {},
   "outputs": [],
   "source": [
    "# Merge the datasets on the 'movieId' column\n",
    "merged_df = pd.merge(ratings_df, movies_df, on='movieId')"
   ]
  },
  {
   "cell_type": "code",
   "execution_count": 39,
   "metadata": {},
   "outputs": [
    {
     "data": {
      "text/html": [
       "<div>\n",
       "<style scoped>\n",
       "    .dataframe tbody tr th:only-of-type {\n",
       "        vertical-align: middle;\n",
       "    }\n",
       "\n",
       "    .dataframe tbody tr th {\n",
       "        vertical-align: top;\n",
       "    }\n",
       "\n",
       "    .dataframe thead th {\n",
       "        text-align: right;\n",
       "    }\n",
       "</style>\n",
       "<table border=\"1\" class=\"dataframe\">\n",
       "  <thead>\n",
       "    <tr style=\"text-align: right;\">\n",
       "      <th></th>\n",
       "      <th>userId</th>\n",
       "      <th>movieId</th>\n",
       "      <th>rating</th>\n",
       "      <th>title</th>\n",
       "      <th>genres</th>\n",
       "    </tr>\n",
       "  </thead>\n",
       "  <tbody>\n",
       "    <tr>\n",
       "      <th>0</th>\n",
       "      <td>1</td>\n",
       "      <td>1</td>\n",
       "      <td>4.0</td>\n",
       "      <td>Toy Story (1995)</td>\n",
       "      <td>Adventure|Animation|Children|Comedy|Fantasy</td>\n",
       "    </tr>\n",
       "    <tr>\n",
       "      <th>1</th>\n",
       "      <td>5</td>\n",
       "      <td>1</td>\n",
       "      <td>4.0</td>\n",
       "      <td>Toy Story (1995)</td>\n",
       "      <td>Adventure|Animation|Children|Comedy|Fantasy</td>\n",
       "    </tr>\n",
       "    <tr>\n",
       "      <th>2</th>\n",
       "      <td>7</td>\n",
       "      <td>1</td>\n",
       "      <td>4.5</td>\n",
       "      <td>Toy Story (1995)</td>\n",
       "      <td>Adventure|Animation|Children|Comedy|Fantasy</td>\n",
       "    </tr>\n",
       "    <tr>\n",
       "      <th>3</th>\n",
       "      <td>15</td>\n",
       "      <td>1</td>\n",
       "      <td>2.5</td>\n",
       "      <td>Toy Story (1995)</td>\n",
       "      <td>Adventure|Animation|Children|Comedy|Fantasy</td>\n",
       "    </tr>\n",
       "    <tr>\n",
       "      <th>4</th>\n",
       "      <td>17</td>\n",
       "      <td>1</td>\n",
       "      <td>4.5</td>\n",
       "      <td>Toy Story (1995)</td>\n",
       "      <td>Adventure|Animation|Children|Comedy|Fantasy</td>\n",
       "    </tr>\n",
       "  </tbody>\n",
       "</table>\n",
       "</div>"
      ],
      "text/plain": [
       "   userId  movieId  rating             title  \\\n",
       "0       1        1     4.0  Toy Story (1995)   \n",
       "1       5        1     4.0  Toy Story (1995)   \n",
       "2       7        1     4.5  Toy Story (1995)   \n",
       "3      15        1     2.5  Toy Story (1995)   \n",
       "4      17        1     4.5  Toy Story (1995)   \n",
       "\n",
       "                                        genres  \n",
       "0  Adventure|Animation|Children|Comedy|Fantasy  \n",
       "1  Adventure|Animation|Children|Comedy|Fantasy  \n",
       "2  Adventure|Animation|Children|Comedy|Fantasy  \n",
       "3  Adventure|Animation|Children|Comedy|Fantasy  \n",
       "4  Adventure|Animation|Children|Comedy|Fantasy  "
      ]
     },
     "execution_count": 39,
     "metadata": {},
     "output_type": "execute_result"
    }
   ],
   "source": [
    "# Display the first few rows of the merged dataset to understand its structure\n",
    "merged_df.head()"
   ]
  },
  {
   "cell_type": "markdown",
   "metadata": {},
   "source": [
    "I will use Collaborative Filtering (CF) as the primary recommendation technique for my movie recommendation project due to the following compelling reasons:\n",
    "\n",
    "- **Data Availability and Relevance**\n",
    "\n",
    "- Our dataset contains user ratings, which are a valuable source of user-item interaction data. Collaborative filtering relies on this type of data to establish patterns of user preferences. Since we have rich user rating information, CF is a natural choice.\n",
    "\n",
    "- **Effectiveness in Identifying User Preferences**\n",
    "\n",
    "- Collaborative filtering techniques excel at identifying similar users and items based on historical user behavior. By analyzing user ratings, CF can accurately capture user preferences and provide recommendations that align with their interests. This approach is well-suited for our goal of delivering personalized movie suggestions.\n",
    "\n",
    "- **Scalability and Applicability**\n",
    "\n",
    "- Collaborative filtering methods are known for their scalability. They can efficiently handle large datasets with numerous users and items, making them suitable for our movie dataset, which includes a substantial number of user ratings.\n",
    "\n",
    "- **Ease of Implementation**\n",
    "\n",
    "- CF techniques are relatively straightforward to implement and experiment with. This ease of implementation allows us to quickly prototype and iterate on recommendation algorithms, making the development process efficient and adaptable to project requirements.\n",
    "\n",
    "Collaborative Filtering is an ideal starting point for our movie recommendation system due to its compatibility with our data, effectiveness in capturing user preferences, scalability, and ease of implementation. We will build upon this foundation to create a recommendation system that provides users with personalized and relevant movie suggestions."
   ]
  },
  {
   "cell_type": "markdown",
   "metadata": {},
   "source": [
    "Since \"genre\" information, which describes the movie's genre, is typically not considered in traditional CF.By dropping the \"genre\" column, we simplify the dataset to contain only the essential user-item interaction data (i.e., \"userId,\" \"movieId,\" and \"rating\"), which aligns with the core principles of CF."
   ]
  },
  {
   "cell_type": "code",
   "execution_count": 40,
   "metadata": {},
   "outputs": [],
   "source": [
    "data = merged_df.drop(columns=['genres'])"
   ]
  }
 ],
 "metadata": {
  "kernelspec": {
   "display_name": "learn-env",
   "language": "python",
   "name": "python3"
  },
  "language_info": {
   "codemirror_mode": {
    "name": "ipython",
    "version": 3
   },
   "file_extension": ".py",
   "mimetype": "text/x-python",
   "name": "python",
   "nbconvert_exporter": "python",
   "pygments_lexer": "ipython3",
   "version": "3.10.12"
  }
 },
 "nbformat": 4,
 "nbformat_minor": 4
}
